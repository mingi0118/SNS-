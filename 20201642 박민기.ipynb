from selenium import webdriver
from selenium.webdriver.common.by import By
from selenium.webdriver.chrome.service import Service
from selenium.webdriver.chrome.options import Options
from selenium.webdriver.support.ui import WebDriverWait
from selenium.webdriver.support import expected_conditions as EC
import pandas as pd
import time
from datetime import datetime

def main():
    # 1. 셀레니움 드라이버 옵션 설정
    options = Options()
    options.add_argument("--headless")  # 창을 띄우지 않고 실행
    options.add_argument("--no-sandbox")
    options.add_argument("--disable-dev-shm-usage")

    # 2. 드라이버 실행 (chromedriver 경로는 필요 시 명시)
    driver = webdriver.Chrome(service=Service(), options=options)

    # 3. YES24 베스트셀러 페이지 접속
    url = "https://www.yes24.com/Product/Category/BestSeller?CategoryNumber=001&sumgb=06"
    driver.get(url)

    # 4. 데이터 저장용 리스트
    books_data = []

    # 5. 1~42페이지 순회
    for page in range(1, 43):
        print(f"\uD06C\uB864\uB9C1 \uC911: {page}\uD398\uC774\uC9C0")

        try:
            WebDriverWait(driver, 10).until(
                EC.presence_of_all_elements_located((By.CSS_SELECTOR, "ul#yesBestList > li"))
            )
        except Exception as e:
            print(f"\uD398\uC774\uC9C0 \uB85C\uB529 \uC2E4\uD328: {e}")
            break

        books = driver.find_elements(By.CSS_SELECTOR, "ul#yesBestList > li")

        for book in books:
            try:
                rank = book.find_element(By.CSS_SELECTOR, "em.ico.rank").text.strip()
            except:
                rank = ""

            try:
                title = book.find_element(By.CSS_SELECTOR, "a.gd_name").text.strip()
            except:
                title = ""

            try:
                authors = book.find_elements(By.CSS_SELECTOR, "span.authPub.info_auth a")
                author = ", ".join(a.text.strip() for a in authors)
            except:
                author = ""

            try:
                publishers = book.find_elements(By.CSS_SELECTOR, "span.authPub.info_pub a")
                publisher = ", ".join(p.text.strip() for p in publishers)
            except:
                publisher = ""

            try:
                price = book.find_element(By.CSS_SELECTOR, "strong.txt_num em").text.strip()
            except:
                price = ""

            books_data.append({
                "\uC21C\uC704": rank,
                "\uC81C\uBAA9": title,
                "\uC800\uC790": author,
                "\uCD9C\uD310\uC0AC": publisher,
                "\uAC00\uACA9": price
            })

        # \uB2E4\uC74C \uD398\uC774\uC9C0\uB85C \uC774\uB3D9
        if page < 42:
            try:
                next_button = WebDriverWait(driver, 5).until(
                    EC.element_to_be_clickable((By.CSS_SELECTOR, f"a[onclick*='changeBestSellerParam(this, {page+1})']"))
                )
                driver.execute_script("arguments[0].click();", next_button)
                time.sleep(1.5)
            except Exception as e:
                print(f"\uD398\uC774\uC9C0 \uC774\uB3D9 \uC2E4\uD328: {e}")
                break

    # \uB4DC\uB77C\uC774\uBC84 \uC885\uB8CC
    driver.quit()

    # \uC911\uBCF5 \uC81C\uAC70 (\uC81C\uBAA9 \uAE30\uC900)
    df = pd.DataFrame(books_data).drop_duplicates(subset="\uC81C\uBAA9")

    # \uB0A0\uC9DC \uD3EC\uD568\uB41C \uD30C\uC77C\uBA85\uC73C\uB85C \uC800\uC7A5
    today_str = datetime.now().strftime("%Y%m%d")
    filename = f"yes24_bestseller_{today_str}.csv"
    df.to_csv(filename, index=False, encoding='utf-8-sig')

    print(f"\u2705 \uC804\uCCB4 \uD06C\uB864\uB9C1 \uC644\uB8CC ({len(df)}\uAD8C) \uBC0F CSV \uC800\uC7A5: {filename}")

if __name__ == "__main__":
    main()
