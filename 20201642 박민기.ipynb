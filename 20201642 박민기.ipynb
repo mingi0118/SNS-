from selenium import webdriver
from selenium.webdriver.common.by import By
from selenium.webdriver.chrome.service import Service
from selenium.webdriver.chrome.options import Options
from selenium.webdriver.support.ui import WebDriverWait
from selenium.webdriver.support import expected_conditions as EC
import pandas as pd
import time
from datetime import datetime

# 1. 셀레니움 드라이버 설정
options = Options()
options.add_argument("--headless")
options.add_argument("--no-sandbox")
options.add_argument("--disable-dev-shm-usage")

driver = webdriver.Chrome(service=Service(), options=options)

# 2. URL 접속
url = "https://www.yes24.com/Product/Category/BestSeller?CategoryNumber=001&sumgb=06"
driver.get(url)

# 3. 데이터 저장 리스트
books_data = []

# 4. 전체 페이지 순회
for page in range(1, 43):
    print(f"크롤링 중: {page}페이지")

    try:
        WebDriverWait(driver, 10).until(
            EC.presence_of_all_elements_located((By.CSS_SELECTOR, "ul#yesBestList > li"))
        )
    except Exception as e:
        print(f"페이지 로딩 실패: {e}")
        break

    books = driver.find_elements(By.CSS_SELECTOR, "ul#yesBestList > li")

    for book in books:
        try:
            rank = book.find_element(By.CSS_SELECTOR, "em.ico.rank").text.strip()
        except:
            rank = ""

        try:
            title = book.find_element(By.CSS_SELECTOR, "a.gd_name").text.strip()
        except:
            title = ""

        try:
            authors = book.find_elements(By.CSS_SELECTOR, "span.authPub.info_auth a")
            author = ", ".join(a.text.strip() for a in authors)
        except:
            author = ""

        try:
            publishers = book.find_elements(By.CSS_SELECTOR, "span.authPub.info_pub a")
            publisher = ", ".join(p.text.strip() for p in publishers)
        except:
            publisher = ""

        try:
            price = book.find_element(By.CSS_SELECTOR, "strong.txt_num em").text.strip()
        except:
            price = ""

        books_data.append({
            "순위": rank,
            "제목": title,
            "저자": author,
            "출판사": publisher,
            "가격": price
        })

    # 다음 페이지로 이동
    if page < 42:
        try:
            next_button = WebDriverWait(driver, 5).until(
                EC.element_to_be_clickable((By.CSS_SELECTOR, f"a[onclick*='changeBestSellerParam(this, {page+1})']"))
            )
            driver.execute_script("arguments[0].click();", next_button)
            time.sleep(1.5)
        except Exception as e:
            print(f"페이지 이동 실패: {e}")
            break

# 5. 결과 저장
driver.quit()

# 중복 제거 (제목 기준)
df = pd.DataFrame(books_data).drop_duplicates(subset="제목")

# 날짜 포함된 파일명 저장
today_str = datetime.now().strftime("%Y%m%d")
filename = f"yes24_bestseller_{today_str}.csv"
df.to_csv(filename, index=False, encoding='utf-8-sig')

print(f"✅ 전체 크롤링 완료 ({len(df)}권) 및 CSV 저장: {filename}")
df
