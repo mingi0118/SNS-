{
 "cells": [
  {
   "cell_type": "code",
   "execution_count": 1,
   "id": "ff325ae7",
   "metadata": {},
   "outputs": [
    {
     "name": "stdout",
     "output_type": "stream",
     "text": [
      "<Response [200]>\n",
      "찾은 항목 수: 0\n",
      "Empty DataFrame\n",
      "Columns: [순위, 책제목, 저자, 출판사]\n",
      "Index: []\n"
     ]
    }
   ],
   "source": [
    "import requests\n",
    "import pandas as pd\n",
    "from bs4 import BeautifulSoup\n",
    "\n",
    "# 1) 베스트셀러 전용 페이지로 URL 변경\n",
    "url = 'https://www.yes24.com/24/category/bestseller'\n",
    "headers = {\n",
    "    'User-Agent': 'Mozilla/5.0 (Windows NT 10.0; Win64; x64) AppleWebKit/537.36 (KHTML, like Gecko) Chrome/91.0.4472.124 Safari/537.36'\n",
    "}\n",
    "res = requests.get(url, headers=headers)\n",
    "html_str = res.text\n",
    "print(res)\n",
    "\n",
    "# 2) 뷰티풀 숩 객체화\n",
    "soup = BeautifulSoup(html_str, 'html.parser')\n",
    "\n",
    "# 3) 베스트셀러 목록 추출 (베스트셀러 페이지의 모든 항목)\n",
    "target = soup.select('#category_layout tbody tr')\n",
    "\n",
    "print(f\"찾은 항목 수: {len(target)}\")\n",
    "\n",
    "# 4) 빈리스트 생성\n",
    "bestbook_list = []\n",
    "\n",
    "# 5) 각 항목에서 정보 추출\n",
    "for item in target:\n",
    "    try:\n",
    "        # 순위 정보\n",
    "        순위 = item.select_one('.num').text.strip()\n",
    "        \n",
    "        # 책 제목 정보\n",
    "        책제목 = item.select_one('.goodsTxtInfo p a').text.strip()\n",
    "        \n",
    "        # 저자 정보\n",
    "        저자_출판사 = item.select_one('.aupu').text.strip()\n",
    "        저자_출판사_split = 저자_출판사.split('|')\n",
    "        \n",
    "        저자 = 저자_출판사_split[0].strip()\n",
    "        출판사 = 저자_출판사_split[1].strip() if len(저자_출판사_split) > 1 else \"정보 없음\"\n",
    "        \n",
    "        print(f\"{순위} | {책제목} | {저자} | {출판사}\")\n",
    "        \n",
    "        # 리스트에 추가\n",
    "        bestbook_list.append([순위, 책제목, 저자, 출판사])\n",
    "        \n",
    "    except Exception as e:\n",
    "        continue\n",
    "\n",
    "# 6) 데이터프레임 생성\n",
    "df = pd.DataFrame(bestbook_list, columns=['순위', '책제목', '저자', '출판사'])\n",
    "print(df)\n"
   ]
  }
 ],
 "metadata": {
  "kernelspec": {
   "display_name": "Python 3",
   "language": "python",
   "name": "python3"
  },
  "language_info": {
   "codemirror_mode": {
    "name": "ipython",
    "version": 3
   },
   "file_extension": ".py",
   "mimetype": "text/x-python",
   "name": "python",
   "nbconvert_exporter": "python",
   "pygments_lexer": "ipython3",
   "version": "3.13.0"
  }
 },
 "nbformat": 4,
 "nbformat_minor": 5
}
